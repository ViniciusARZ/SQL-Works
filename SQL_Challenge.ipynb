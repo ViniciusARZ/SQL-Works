{
  "nbformat": 4,
  "nbformat_minor": 0,
  "metadata": {
    "colab": {
      "name": "Termly SQL Challenge.ipynb",
      "provenance": [],
      "authorship_tag": "ABX9TyNzx9wORldCtlkOuh+NOP1F"
    },
    "kernelspec": {
      "name": "python3",
      "display_name": "Python 3"
    },
    "language_info": {
      "name": "python"
    }
  },
  "cells": [
    {
      "cell_type": "markdown",
      "source": [
        "Author: Vinícius Antoino Ramos Zecca\n",
        "\n",
        "LinkedIn: /viniciusarz\n",
        "\n",
        "Github: /ViniciusARZ"
      ],
      "metadata": {
        "id": "lqDp2wIvOHJY"
      }
    },
    {
      "cell_type": "code",
      "source": [
        "import pandas as pd\n",
        "import numpy as np\n",
        "import sqlite3"
      ],
      "metadata": {
        "id": "Ui1WTyPZ83hU"
      },
      "execution_count": null,
      "outputs": []
    },
    {
      "cell_type": "markdown",
      "source": [
        "As the challenge consists of table structures, I'm creating random integers as values to demonstrate if the query worked or not. *Ignore the values itself, they will not match conditions.*"
      ],
      "metadata": {
        "id": "2GiaUU2ZOhKr"
      }
    },
    {
      "cell_type": "code",
      "execution_count": null,
      "metadata": {
        "id": "6ULuNkSK8sEF"
      },
      "outputs": [],
      "source": [
        "rng = np.random.default_rng()\n",
        "\n",
        "transactions = pd.DataFrame(rng.integers(0, 100, size=(100, 4)), columns={'transaction_id','payment_profile_id','amount','payment_month'})\n",
        "\n",
        "payment_profiles = pd.DataFrame(rng.integers(0, 100, size=(100, 5)), columns={'payment_profile_id','user_id','last_4_digits','address','plan_id'})\n",
        "\n",
        "current_paid_users = pd.DataFrame(rng.integers(0, 100, size=(100, 3)), columns={'user_id','email','user_plan'})"
      ]
    },
    {
      "cell_type": "markdown",
      "source": [
        "Creating db"
      ],
      "metadata": {
        "id": "eVGsDxpp-x04"
      }
    },
    {
      "cell_type": "code",
      "source": [
        "try:\n",
        "    conn = sqlite3.connect('Termly.db')\n",
        "    cursor = conn.cursor()\n",
        "    print(\"Database created and Successfully Connected to SQLite\")\n",
        "\n",
        "    sqlite_select_Query = \"select sqlite_version();\"\n",
        "    cursor.execute(sqlite_select_Query)\n",
        "    record = cursor.fetchall()\n",
        "    print(\"SQLite Database Version is: \", record)\n",
        "    cursor.close()\n",
        "\n",
        "except sqlite3.Error as error:\n",
        "    print(\"Error while connecting to sqlite\", error)\n",
        "finally:\n",
        "    if conn:\n",
        "        conn.commit()\n",
        "        print(\"The SQLite connection is closed\")"
      ],
      "metadata": {
        "colab": {
          "base_uri": "https://localhost:8080/"
        },
        "id": "KqWJ9aiE-yu-",
        "outputId": "a37d2eeb-34b4-4a91-98b7-881c5e200fb2"
      },
      "execution_count": null,
      "outputs": [
        {
          "output_type": "stream",
          "name": "stdout",
          "text": [
            "Database created and Successfully Connected to SQLite\n",
            "SQLite Database Version is:  [('3.22.0',)]\n",
            "The SQLite connection is closed\n"
          ]
        }
      ]
    },
    {
      "cell_type": "markdown",
      "source": [
        "Creating tables inside db"
      ],
      "metadata": {
        "id": "AxlppIUP_Oi9"
      }
    },
    {
      "cell_type": "code",
      "source": [
        "transactions.to_sql(\"transactions\", conn, if_exists=\"replace\")\n",
        "payment_profiles.to_sql(\"payment_profiles\", conn, if_exists=\"replace\")\n",
        "current_paid_users.to_sql(\"current_paid_users\", conn, if_exists=\"replace\")"
      ],
      "metadata": {
        "id": "ZvB_jVfY_QV_"
      },
      "execution_count": null,
      "outputs": []
    },
    {
      "cell_type": "markdown",
      "source": [
        "Testing if it worked"
      ],
      "metadata": {
        "id": "EW6xGSmMCkdB"
      }
    },
    {
      "cell_type": "code",
      "source": [
        "c = conn.cursor()\n",
        "c.execute(\"SELECT * from transactions LIMIT 5\")\n",
        "results = c.fetchall()\n",
        "for result in results:\n",
        "  print(result)"
      ],
      "metadata": {
        "colab": {
          "base_uri": "https://localhost:8080/"
        },
        "id": "gSrQXozHBMuR",
        "outputId": "7fdbd00c-30ca-4cc8-c5ec-60cb1c30837f"
      },
      "execution_count": null,
      "outputs": [
        {
          "output_type": "stream",
          "name": "stdout",
          "text": [
            "(0, 38, 92, 0, 84)\n",
            "(1, 37, 21, 57, 65)\n",
            "(2, 11, 76, 82, 9)\n",
            "(3, 58, 45, 92, 48)\n",
            "(4, 44, 17, 9, 83)\n"
          ]
        }
      ]
    },
    {
      "cell_type": "markdown",
      "source": [
        "Query to Solve: Return transaction_id and amount for all annual plan transactions.\n"
      ],
      "metadata": {
        "id": "PR-KWk9x-nWW"
      }
    },
    {
      "cell_type": "markdown",
      "source": [
        "In this case the query will not show anything because my values are Ints and my condition is a string."
      ],
      "metadata": {
        "id": "MVhjbcWBOvZ-"
      }
    },
    {
      "cell_type": "code",
      "source": [
        "c = conn.cursor()\n",
        "c.execute(\"SELECT user_plan, transactions.transaction_id, transactions.amount FROM current_paid_users LEFT JOIN payment_profiles ON current_paid_users.user_id = payment_profiles.user_id LEFT JOIN transactions ON payment_profiles.payment_profile_id = transactions.payment_profile_id WHERE user_plan = 'annual_plan'\")\n",
        "results = c.fetchall()\n",
        "for result in results:\n",
        "  print(result)"
      ],
      "metadata": {
        "id": "H_uinshWCmRy"
      },
      "execution_count": null,
      "outputs": []
    },
    {
      "cell_type": "markdown",
      "source": [
        "Query to Solve: Return the payment profile ID and sum of the amount paid by each user within\n",
        "each month. Return data only for users who have more than 2 transactions per month.\n"
      ],
      "metadata": {
        "id": "h156BByAENAA"
      }
    },
    {
      "cell_type": "code",
      "source": [
        "transactions.columns"
      ],
      "metadata": {
        "colab": {
          "base_uri": "https://localhost:8080/"
        },
        "id": "aUDaAIbuEjS2",
        "outputId": "15556e9a-2ab8-4bcb-a790-f990ad8eda6a"
      },
      "execution_count": null,
      "outputs": [
        {
          "output_type": "execute_result",
          "data": {
            "text/plain": [
              "Index(['payment_profile_id', 'transaction_id', 'amount', 'payment_month'], dtype='object')"
            ]
          },
          "metadata": {},
          "execution_count": 106
        }
      ]
    },
    {
      "cell_type": "code",
      "source": [
        "c = conn.cursor()\n",
        "c.execute(\"SELECT payment_profile_id, SUM(amount) AS Total_Amount, COUNT(transaction_id) AS Total_Transactions, payment_month FROM transactions GROUP BY payment_Profile_id, payment_month HAVING Total_Transactions > 2 ORDER BY payment_month\")\n",
        "results = c.fetchall()\n",
        "for result in results:\n",
        "  print(result)"
      ],
      "metadata": {
        "id": "SXjW0siREJOo"
      },
      "execution_count": null,
      "outputs": []
    },
    {
      "cell_type": "markdown",
      "source": [
        "Query to Solve: Return all transactions greater than $10, sorted in descending order by month\n",
        "and payment_profile_id."
      ],
      "metadata": {
        "id": "snQkezvlF4k8"
      }
    },
    {
      "cell_type": "code",
      "source": [
        "c = conn.cursor()\n",
        "c.execute(\"SELECT * FROM transactions WHERE amount > 10 ORDER BY payment_month,payment_profile_id DESC LIMIT 5\")\n",
        "results = c.fetchall()\n",
        "for result in results:\n",
        "  print(result)"
      ],
      "metadata": {
        "colab": {
          "base_uri": "https://localhost:8080/"
        },
        "id": "nsMEmT9mF5Kn",
        "outputId": "03996dd9-6812-4461-dbef-2236d1395c3e"
      },
      "execution_count": null,
      "outputs": [
        {
          "output_type": "stream",
          "name": "stdout",
          "text": [
            "(22, 93, 78, 60, 0)\n",
            "(97, 63, 70, 36, 1)\n",
            "(38, 23, 89, 73, 2)\n",
            "(80, 26, 73, 30, 3)\n",
            "(78, 58, 56, 21, 4)\n"
          ]
        }
      ]
    },
    {
      "cell_type": "markdown",
      "source": [
        "Query to Solve: Return the last 4 credit card digits and count of transactions for each payment\n",
        "profile ID in the Payment_Profiles table. If there were no transactions, return 0"
      ],
      "metadata": {
        "id": "JPgs_M9DGdNv"
      }
    },
    {
      "cell_type": "code",
      "source": [
        "payment_profiles.columns"
      ],
      "metadata": {
        "colab": {
          "base_uri": "https://localhost:8080/"
        },
        "id": "R8FSy2gMHAOp",
        "outputId": "da733416-bd9c-4316-9b81-456e9d91205b"
      },
      "execution_count": null,
      "outputs": [
        {
          "output_type": "execute_result",
          "data": {
            "text/plain": [
              "Index(['address', 'last_4_digits', 'payment_profile_id', 'plan_id', 'user_id'], dtype='object')"
            ]
          },
          "metadata": {},
          "execution_count": 109
        }
      ]
    },
    {
      "cell_type": "code",
      "source": [
        "Transaction_Counts = pd.DataFrame(rng.integers(0, 100, size=(100, 2)), columns={'payment_profile_id','transaction_counts'})\n",
        "Transaction_Counts.to_sql(\"transaction_counts\", conn, if_exists=\"replace\")\n",
        "c = conn.cursor()\n",
        "c.execute(\"SELECT last_4_digits, payment_profiles.payment_profile_id, CASE WHEN transaction_counts.transaction_counts = 0 THEN '0' ELSE transaction_counts.transaction_counts END AS Transactions FROM payment_profiles LEFT JOIN transaction_counts ON payment_profiles.payment_profile_id = transaction_counts.payment_profile_id LIMIT 5\")\n",
        "results = c.fetchall()\n",
        "for result in results:\n",
        "  print(result)"
      ],
      "metadata": {
        "colab": {
          "base_uri": "https://localhost:8080/"
        },
        "id": "CeWbO49rGdrR",
        "outputId": "4b9c428a-83c8-451a-8212-9c338e2951fe"
      },
      "execution_count": null,
      "outputs": [
        {
          "output_type": "stream",
          "name": "stdout",
          "text": [
            "(60, 58, 8)\n",
            "(60, 58, 62)\n",
            "(96, 61, 10)\n",
            "(96, 61, 52)\n",
            "(96, 61, 89)\n"
          ]
        }
      ]
    },
    {
      "cell_type": "markdown",
      "source": [
        "Query to Solve: Return all events in a unified table containing event IDs, user IDs, and event\n",
        "types."
      ],
      "metadata": {
        "id": "UpBTftn7Ipkl"
      }
    },
    {
      "cell_type": "code",
      "source": [
        "Type_1_Events = pd.DataFrame(rng.integers(0, 100, size=(100, 4)), columns={'event_id','timestamp','user_id','event_type'})\n",
        "Type_1_Events.to_sql(\"type_1_events\", conn, if_exists=\"replace\")\n",
        "Type_2_Events = pd.DataFrame(rng.integers(0, 100, size=(100, 5)), columns={'event_id','email','notes','user_id','event_type'})\n",
        "Type_2_Events.to_sql(\"type_2_events\", conn, if_exists=\"replace\")\n",
        "\n",
        "c = conn.cursor()\n",
        "c.execute(\"SELECT type_1_events.event_id, type_1_events.user_id, type_1_events.event_type FROM type_1_events UNION SELECT type_2_events.event_id, type_2_events.user_id, type_2_events.event_type FROM type_2_events LIMIT 5\")\n",
        "results = c.fetchall()\n",
        "for result in results:\n",
        "  print(result)"
      ],
      "metadata": {
        "colab": {
          "base_uri": "https://localhost:8080/"
        },
        "id": "tSKwE7Z8IqD5",
        "outputId": "88463eb4-98a1-4ee4-b8da-651cb39fd051"
      },
      "execution_count": null,
      "outputs": [
        {
          "output_type": "stream",
          "name": "stdout",
          "text": [
            "(0, 12, 42)\n",
            "(0, 78, 17)\n",
            "(0, 87, 17)\n",
            "(1, 69, 87)\n",
            "(2, 91, 4)\n"
          ]
        }
      ]
    },
    {
      "cell_type": "markdown",
      "source": [
        "Query to Solve: Return the total amount, count of transactions and count of documents for\n",
        "each payment profile ID in the Payment_Profiles table"
      ],
      "metadata": {
        "id": "YTaD_C-pK3P2"
      }
    },
    {
      "cell_type": "code",
      "source": [
        "payment_profiles.columns"
      ],
      "metadata": {
        "colab": {
          "base_uri": "https://localhost:8080/"
        },
        "id": "nPLn1eXsLcXa",
        "outputId": "9be8b6ec-c761-4c18-8664-ba703acbbfad"
      },
      "execution_count": null,
      "outputs": [
        {
          "output_type": "execute_result",
          "data": {
            "text/plain": [
              "Index(['payment_profile_id', 'address', 'last_4_digits', 'user_id'], dtype='object')"
            ]
          },
          "metadata": {},
          "execution_count": 90
        }
      ]
    },
    {
      "cell_type": "code",
      "source": [
        "documents = pd.DataFrame(rng.integers(0, 100, size=(100, 2)), columns={'payment_profile_id','document_id'})\n",
        "documents.to_sql(\"documents\", conn, if_exists=\"replace\")\n",
        "\n",
        "c = conn.cursor()\n",
        "c.execute(\"SELECT payment_profiles.payment_profile_id, SUM(transactions.amount) AS Total_Amount, COUNT(transactions.transaction_id) AS Total_Transactions, COUNT(documents.document_id) AS Total_Documents FROM payment_profiles LEFT JOIN transactions ON payment_profiles.payment_profile_id = transactions.payment_profile_id LEFT JOIN documents ON payment_profiles.payment_profile_id = documents.payment_profile_id GROUP BY payment_profiles.payment_profile_id LIMIT 5\")\n",
        "results = c.fetchall()\n",
        "for result in results:\n",
        "  print(result)"
      ],
      "metadata": {
        "colab": {
          "base_uri": "https://localhost:8080/"
        },
        "id": "aWDJnTDBK5iZ",
        "outputId": "686e8e8f-bb44-4385-bd59-9a39101e7fca"
      },
      "execution_count": null,
      "outputs": [
        {
          "output_type": "stream",
          "name": "stdout",
          "text": [
            "(2, 1075, 15, 15)\n",
            "(4, 208, 4, 4)\n",
            "(6, 276, 4, 4)\n",
            "(7, 89, 2, 0)\n",
            "(8, None, 0, 0)\n"
          ]
        }
      ]
    },
    {
      "cell_type": "markdown",
      "source": [
        "Query to Solve: Return all transaction IDs and amounts along labeled according to the plan\n",
        "type. Plan IDs of 1, 3, 5, and 7 should get the label “monthly_plan.” Plan IDs of 2, 4, 6, and 8\n",
        "should get the label “annual_plan.”"
      ],
      "metadata": {
        "id": "BcZ3wQqYMigI"
      }
    },
    {
      "cell_type": "code",
      "source": [
        "transactions.columns"
      ],
      "metadata": {
        "colab": {
          "base_uri": "https://localhost:8080/"
        },
        "id": "MoEZ4y8NM483",
        "outputId": "29ed62d3-be1d-4a34-bed6-717f3860a1e9"
      },
      "execution_count": null,
      "outputs": [
        {
          "output_type": "execute_result",
          "data": {
            "text/plain": [
              "Index(['payment_profile_id', 'transaction_id', 'amount', 'payment_month'], dtype='object')"
            ]
          },
          "metadata": {},
          "execution_count": 113
        }
      ]
    },
    {
      "cell_type": "code",
      "source": [
        "payment_profiles.columns"
      ],
      "metadata": {
        "colab": {
          "base_uri": "https://localhost:8080/"
        },
        "id": "yKeBanyVM8r8",
        "outputId": "a6f3943f-6a19-425a-cac7-47f213892d53"
      },
      "execution_count": null,
      "outputs": [
        {
          "output_type": "execute_result",
          "data": {
            "text/plain": [
              "Index(['address', 'last_4_digits', 'payment_profile_id', 'plan_id', 'user_id'], dtype='object')"
            ]
          },
          "metadata": {},
          "execution_count": 114
        }
      ]
    },
    {
      "cell_type": "code",
      "source": [
        "c = conn.cursor()\n",
        "c.execute(\"SELECT transactions.transaction_id, transactions.amount, CASE payment_profiles.plan_id WHEN 1 OR 3 OR 5 OR 7 THEN 'monthly_plan' WHEN 2 OR 4 OR 6 OR 8 THEN 'annual_plan' END AS Plans FROM transactions LEFT JOIN payment_profiles ON transactions.payment_profile_id = payment_profiles.payment_profile_id LIMIT 5\")\n",
        "results = c.fetchall()\n",
        "for result in results:\n",
        "  print(result)"
      ],
      "metadata": {
        "colab": {
          "base_uri": "https://localhost:8080/"
        },
        "id": "blE9HvluMiRV",
        "outputId": "8ac201f4-f780-456e-b0be-f7dc90692048"
      },
      "execution_count": null,
      "outputs": [
        {
          "output_type": "stream",
          "name": "stdout",
          "text": [
            "(92, 0, None)\n",
            "(21, 57, None)\n",
            "(76, 82, None)\n",
            "(45, 92, None)\n",
            "(45, 92, None)\n"
          ]
        }
      ]
    }
  ]
}